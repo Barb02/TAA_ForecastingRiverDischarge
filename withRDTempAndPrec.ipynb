{
 "cells": [
  {
   "cell_type": "markdown",
   "metadata": {},
   "source": [
    "# Forecasting of daily River Discharge (RD) based on temperature and previous precipitation levels"
   ]
  },
  {
   "cell_type": "markdown",
   "metadata": {},
   "source": [
    "### Import of libraries"
   ]
  },
  {
   "cell_type": "code",
   "execution_count": 30,
   "metadata": {},
   "outputs": [],
   "source": [
    "import numpy as np\n",
    "import matplotlib.pyplot as plt\n",
    "import pandas as pd\n",
    "import datetime as dt\n",
    "import matplotlib.dates as mdates\n",
    "from sklearn import linear_model,preprocessing\n",
    "from sklearn.model_selection import learning_curve\n",
    "from sklearn.metrics import mean_squared_error,r2_score\n",
    "from scipy.stats import boxcox\n",
    "from scipy.special import inv_boxcox\n",
    "from sklearn.model_selection import train_test_split"
   ]
  },
  {
   "cell_type": "markdown",
   "metadata": {},
   "source": [
    "### LoadingData"
   ]
  },
  {
   "cell_type": "code",
   "execution_count": 31,
   "metadata": {},
   "outputs": [],
   "source": [
    "def loadData(river,rdDaysBefore,precDaysBefore=0):\n",
    "    data=pd.read_csv(river).values\n",
    "    Xbefore = data[:,1:4]\n",
    "    rd_column = Xbefore[:,0]\n",
    "    rd_column = np.roll(rd_column,rdDaysBefore)\n",
    "    Xbefore[:,0] = rd_column\n",
    "    if precDaysBefore != 0:\n",
    "        prec_colum = Xbefore[:,2]\n",
    "        prec_colum = np.roll(prec_colum,precDaysBefore)\n",
    "        new_column = np.expand_dims(prec_colum, axis=1)\n",
    "        Xbefore = np.hstack((Xbefore, new_column))\n",
    "    cut = rdDaysBefore if rdDaysBefore > precDaysBefore else precDaysBefore\n",
    "    X = Xbefore[cut:,:]\n",
    "    y = data[cut:,1]\n",
    "    return X,y"
   ]
  },
  {
   "cell_type": "markdown",
   "metadata": {},
   "source": [
    "### Prep of Data"
   ]
  },
  {
   "cell_type": "code",
   "execution_count": 32,
   "metadata": {},
   "outputs": [],
   "source": [
    "def apply_boxcox(y, lambda_val=0):\n",
    "    y_float64 = np.array(y, dtype=np.float64)\n",
    "    if lambda_val == 0:\n",
    "        res = boxcox(y_float64)\n",
    "    else:\n",
    "        res = boxcox(y_float64, lambda_val)\n",
    "    y = res[0]\n",
    "    lambda_val = res[1]\n",
    "    return y, lambda_val"
   ]
  },
  {
   "cell_type": "code",
   "execution_count": 33,
   "metadata": {},
   "outputs": [],
   "source": [
    "def preprocess_data(X,y):\n",
    "    scaler = preprocessing.StandardScaler()\n",
    "    poly_features = preprocessing.PolynomialFeatures(degree=2)\n",
    "\n",
    "    X_train, X_test, y_train, y_test = train_test_split(X, y, train_size=0.8, shuffle=False)\n",
    "\n",
    "    X_train_poly = poly_features.fit_transform(X_train)\n",
    "    X_test_poly = poly_features.transform(X_test)\n",
    "\n",
    "    X_train_scaled = scaler.fit_transform(X_train_poly)\n",
    "    y_train_boxcox, lambda_val = apply_boxcox(y_train)\n",
    "\n",
    "    X_test_scaled = scaler.transform(X_test_poly)\n",
    "\n",
    "    return X_train_scaled, y_train_boxcox, X_test_scaled, y_test, lambda_val"
   ]
  },
  {
   "cell_type": "markdown",
   "metadata": {},
   "source": [
    "### Cost Function"
   ]
  },
  {
   "cell_type": "code",
   "execution_count": 34,
   "metadata": {},
   "outputs": [],
   "source": [
    "def fit(X_train_scaled, y_train_boxcox, X_test_scaled, y_test, lambda_val):\n",
    "    \n",
    "    alphas = [0.01,0.1,1,2,3,4,5,6,7,8,9,10,20,30,40,50,60,70,80,90,100]\n",
    "    ridge_cv = linear_model.RidgeCV(alphas=alphas)\n",
    "\n",
    "    ridge_cv.fit(X_train_scaled,y_train_boxcox)\n",
    "    best_alpha = ridge_cv.alpha_\n",
    "    y_predict = inv_boxcox(ridge_cv.predict(X_test_scaled), lambda_val)\n",
    "\n",
    "    r2_training = ridge_cv.score(X_train_scaled, y_train_boxcox)\n",
    "    rmse_training = np.sqrt(-1*ridge_cv.best_score_)\n",
    "    r2 = r2_score(y_test, y_predict)\n",
    "    rmse = np.sqrt(mean_squared_error(y_test, y_predict))\n",
    "\n",
    "    \"\"\" plt.plot(y_test, 'r', label='Original')\n",
    "    plt.plot(y_predict, 'b', label='Predicted')\n",
    "    ax = plt.gca()\n",
    "    ax.set_ylim([0, ax.get_ylim()[1]*1.1])\n",
    "    plt.legend()\n",
    "    plt.show() \"\"\"\n",
    "\n",
    "    return r2, rmse, r2_training, rmse_training, best_alpha"
   ]
  },
  {
   "cell_type": "code",
   "execution_count": 35,
   "metadata": {},
   "outputs": [],
   "source": [
    "def test_for_river(river):\n",
    "\n",
    "    best_r2 = (-np.inf,0)\n",
    "    best_rmse = (np.inf,0)\n",
    "\n",
    "    memory = [x for x in range(1,11)] + [x for x in range(10,100,10)]\n",
    "\n",
    "    for i in memory:\n",
    "        for j in memory:\n",
    "            X, y = loadData(river, i,j)\n",
    "            X_train_scaled, y_train_boxcox, X_test_scaled, y_test, lambda_val = preprocess_data(X, y)\n",
    "            r2, rmse, _, _, _ = fit(X_train_scaled, y_train_boxcox, X_test_scaled, y_test, lambda_val)\n",
    "            if r2 > best_r2[0]:\n",
    "                best_r2 = (r2, i)\n",
    "            if rmse < best_rmse[0]:\n",
    "                best_rmse = (rmse, i)\n",
    "            \n",
    "    print(\"\\n\\n ----- TESTING FOR RIVER:\", river + \" ------ \\n\\n\")\n",
    "    print(\"Best i for best R2:\", best_r2[1])\n",
    "    print(\"Best i for best RMSE:\", best_rmse[1])\n",
    "    X, y = loadData(river, best_rmse[1])\n",
    "    X_train_scaled, y_train_boxcox, X_test_scaled, y_test, lambda_val = preprocess_data(X, y)\n",
    "    r2, rmse, r2_train, rmse_train, best_alpha = fit(X_train_scaled, y_train_boxcox, X_test_scaled, y_test, lambda_val)\n",
    "    print(\"RMSE training:\", rmse_train)\n",
    "    print(\"R2 training:\", r2_train)\n",
    "    print(\"RMSE test:\", rmse)\n",
    "    print(\"R2 test:\", r2)\n",
    "    print(\"Best alpha:\", best_alpha)"
   ]
  },
  {
   "cell_type": "code",
   "execution_count": 36,
   "metadata": {},
   "outputs": [
    {
     "name": "stdout",
     "output_type": "stream",
     "text": [
      "\n",
      "\n",
      " ----- TESTING FOR RIVER: RD_data/RD_AntuaR_pg.csv ------ \n",
      "\n",
      "\n",
      "Best i for best R2: 4\n",
      "Best i for best RMSE: 3\n",
      "RMSE training: 0.3236999550504458\n",
      "R2 training: 0.9370730994965578\n",
      "RMSE test: 0.5369818539554014\n",
      "R2 test: 0.9050006837945667\n",
      "Best alpha: 50.0\n",
      "\n",
      "\n",
      " ----- TESTING FOR RIVER: RD_data/RD_MondegoR_pg.csv ------ \n",
      "\n",
      "\n",
      "Best i for best R2: 1\n",
      "Best i for best RMSE: 1\n",
      "RMSE training: 0.8494552091229958\n",
      "R2 training: 0.8130692316167374\n",
      "RMSE test: 6.775827051959998\n",
      "R2 test: 0.6399650150928857\n",
      "Best alpha: 70.0\n",
      "\n",
      "\n",
      " ----- TESTING FOR RIVER: RD_data/RD_NeivaR_pg.csv ------ \n",
      "\n",
      "\n",
      "Best i for best R2: 30\n",
      "Best i for best RMSE: 30\n",
      "RMSE training: 0.14412588435253443\n",
      "R2 training: 0.9839727649565708\n",
      "RMSE test: 0.12053913259087022\n",
      "R2 test: 0.9813991025655336\n",
      "Best alpha: 7.0\n",
      "\n",
      "\n",
      " ----- TESTING FOR RIVER: RD_data/RD_VougaR_pg.csv ------ \n",
      "\n",
      "\n",
      "Best i for best R2: 2\n",
      "Best i for best RMSE: 1\n",
      "RMSE training: 0.8159672949870155\n",
      "R2 training: 0.8759604395368095\n",
      "RMSE test: 13.46598690460932\n",
      "R2 test: 0.7860737288665672\n",
      "Best alpha: 0.01\n"
     ]
    }
   ],
   "source": [
    "test_for_river(\"RD_data/RD_AntuaR_pg.csv\")\n",
    "test_for_river(\"RD_data/RD_MondegoR_pg.csv\")\n",
    "test_for_river(\"RD_data/RD_NeivaR_pg.csv\")\n",
    "test_for_river(\"RD_data/RD_VougaR_pg.csv\")"
   ]
  }
 ],
 "metadata": {
  "kernelspec": {
   "display_name": "base",
   "language": "python",
   "name": "python3"
  },
  "language_info": {
   "codemirror_mode": {
    "name": "ipython",
    "version": 3
   },
   "file_extension": ".py",
   "mimetype": "text/x-python",
   "name": "python",
   "nbconvert_exporter": "python",
   "pygments_lexer": "ipython3",
   "version": "3.11.5"
  }
 },
 "nbformat": 4,
 "nbformat_minor": 2
}
