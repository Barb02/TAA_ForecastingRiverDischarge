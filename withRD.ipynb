{
 "cells": [
  {
   "cell_type": "markdown",
   "metadata": {},
   "source": [
    "# Forecasting of daily River Discharge (RD) based on previous River Discharge"
   ]
  },
  {
   "cell_type": "markdown",
   "metadata": {},
   "source": [
    "### Import of libraries"
   ]
  },
  {
   "cell_type": "code",
   "execution_count": null,
   "metadata": {},
   "outputs": [],
   "source": [
    "import numpy as np\n",
    "import matplotlib.pyplot as plt\n",
    "import pandas as pd\n",
    "import datetime as dt\n",
    "import matplotlib.dates as mdates\n",
    "from sklearn import linear_model,preprocessing\n",
    "from sklearn.metrics import mean_squared_error, r2_score\n",
    "from sklearn.model_selection import train_test_split"
   ]
  },
  {
   "cell_type": "markdown",
   "metadata": {},
   "source": [
    "### Validation Curve Function"
   ]
  },
  {
   "cell_type": "code",
   "execution_count": null,
   "metadata": {},
   "outputs": [],
   "source": [
    "def validationCurve (X, y, Xval, yval, Lambda_array):\n",
    "\n",
    "    \"\"\"\n",
    "    Returns the best lambda and the respective train and cross validation set errors\n",
    "    \"\"\"\n",
    "    m = len(y)  # Number of training examples \n",
    "    n= X.shape[1]  # number of features \n",
    "    mval = len(yval)  # Number of validation examples \n",
    "    \n",
    "    error_train, error_val = [],[]\n",
    "    \n",
    "    for lam in Lambda_array:\n",
    "        # inicialize theta vector with zeros\n",
    "        \n",
    "        # call gradientDescent to compute the optimal theta \n",
    "        model = linear_model.Ridge(alpha=lam)\n",
    "        model.fit(X,y)\n",
    "                \n",
    "        #After the training is over, apply the trained model for train and validation data\n",
    "        pred_train = model.predict(X)\n",
    "        pred_val =  model.predict(Xval)\n",
    "        \n",
    "        #Compute the train and validation error\n",
    "        error_train_i = 1/(2*m) * np.sum((pred_train - y)**2)\n",
    "        error_val_i = 1/(2*mval) * np.sum((pred_val - yval)**2)\n",
    "        \n",
    "        error_train.append(error_train_i)\n",
    "        error_val.append(error_val_i)\n",
    "    \n",
    "    #Choose the best lambda to be the one that minimizes the validation error\n",
    "    ind = np.argmin(error_val)\n",
    "    best_lambda=Lambda_array[ind]\n",
    "        \n",
    "    return best_lambda, error_train, error_val"
   ]
  },
  {
   "cell_type": "markdown",
   "metadata": {},
   "source": [
    "### Load information from csv ans separate  into train, validation and tests sets\n"
   ]
  },
  {
   "cell_type": "code",
   "execution_count": null,
   "metadata": {},
   "outputs": [],
   "source": [
    "def loadData(river,memory):    \n",
    "    data=pd.read_csv(river)\n",
    "\n",
    "    data.head()\n",
    "    dataV = data.values\n",
    "    rd = dataV[:,1]\n",
    "\n",
    "    rollrd = np.roll(rd,1)\n",
    "    x = np.array(rollrd)\n",
    "    x = x.reshape(-1, 1)\n",
    "    for i in range(memory-1):\n",
    "        new_column = np.roll(rollrd,i+1)\n",
    "        x = np.hstack((x, new_column.reshape(-1, 1)))\n",
    "\n",
    "    X = x[memory:,:]\n",
    "    y = rd[memory:]\n",
    "    y = y.transpose()\n",
    "\n",
    "    train_size = int(len(y)*0.6)\n",
    "    validation_size = int(len(y)*0.2)\n",
    "\n",
    "    X_train = X[:train_size,:]\n",
    "    y_train = y[:train_size]\n",
    "    X_val = X[train_size:train_size+validation_size,:]\n",
    "    y_val = y[train_size:train_size+validation_size]\n",
    "    X_test = X[train_size+validation_size:,:]\n",
    "    y_test = y[train_size+validation_size:]\n",
    "\n",
    "    return X_train,y_train,X_val,y_val,X_test,y_test"
   ]
  },
  {
   "cell_type": "markdown",
   "metadata": {},
   "source": [
    "### Using Validation Curve to determine best alpha"
   ]
  },
  {
   "cell_type": "code",
   "execution_count": null,
   "metadata": {},
   "outputs": [],
   "source": [
    "Lambda_array = [0.01,0.1,1,2,3,5,10,100]\n",
    "memorys = [x for x in range(1,10)] + [x for x in range(10,360,15)]\n",
    "minValError = np.inf\n",
    "for memory in memorys:\n",
    "    X_train,y_train,X_val,y_val,X_test,y_test = loadData(\"RD_data/RD_AntuaR_pg.csv\",memory)\n",
    "    best_lambda, error_train,error_val = validationCurve(X_train,y_train,X_val,y_val,Lambda_array)\n",
    "    if min(error_val) < minValError:\n",
    "        minValError = min(error_val)\n",
    "        best_lambdaMemory = (best_lambda,memory)\n",
    "\n",
    "print(\"best Values (lambda,memory)\",best_lambdaMemory)"
   ]
  },
  {
   "cell_type": "markdown",
   "metadata": {},
   "source": [
    "### Ridge regression"
   ]
  },
  {
   "cell_type": "code",
   "execution_count": null,
   "metadata": {},
   "outputs": [],
   "source": [
    "lambd = best_lambdaMemory[0]\n",
    "memory = best_lambdaMemory[1]\n",
    "X_train,y_train,X_val,y_val,X_test,y_test = loadData(\"RD_data/RD_AntuaR_pg.csv\",memory) # change river file to test different rivers\n",
    "reg = linear_model.Ridge(alpha=lambd)\n",
    "reg.fit(X_train,y_train)\n",
    "\n",
    "predict = reg.predict(X_test)"
   ]
  },
  {
   "cell_type": "markdown",
   "metadata": {},
   "source": [
    "Results"
   ]
  },
  {
   "cell_type": "code",
   "execution_count": null,
   "metadata": {},
   "outputs": [],
   "source": [
    "plt.plot(predict,'r',label=\"predicted\")\n",
    "plt.plot(y_test,'b',label=\"test value\")\n",
    "plt.ylabel(\"River Discharge\")\n",
    "plt.xlabel(\"Time(days)\")\n",
    "plt.legend()\n",
    "plt.savefig(\"Graphs/modelB.png\")\n",
    "r2 = r2_score(y_test, predict)\n",
    "print(\"R-squared (R2):\", r2)\n",
    "\n",
    "mse = mean_squared_error(y_test, predict)\n",
    "print(\"MSE:\", mse)\n",
    "print(\"RMSE:\", np.sqrt(mse))"
   ]
  }
 ],
 "metadata": {
  "kernelspec": {
   "display_name": "Python 3",
   "language": "python",
   "name": "python3"
  },
  "language_info": {
   "codemirror_mode": {
    "name": "ipython",
    "version": 3
   },
   "file_extension": ".py",
   "mimetype": "text/x-python",
   "name": "python",
   "nbconvert_exporter": "python",
   "pygments_lexer": "ipython3",
   "version": "3.11.5"
  }
 },
 "nbformat": 4,
 "nbformat_minor": 2
}
