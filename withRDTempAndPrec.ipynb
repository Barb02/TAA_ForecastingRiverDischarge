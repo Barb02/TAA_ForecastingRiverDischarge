{
 "cells": [
  {
   "cell_type": "markdown",
   "metadata": {},
   "source": [
    "# Forecasting of daily River Discharge (RD) based on temperature and precipitation of the day, previous RD and previous Precipitation"
   ]
  },
  {
   "cell_type": "markdown",
   "metadata": {},
   "source": [
    "### Import of libraries"
   ]
  },
  {
   "cell_type": "code",
   "execution_count": null,
   "metadata": {},
   "outputs": [],
   "source": [
    "import numpy as np\n",
    "import matplotlib.pyplot as plt\n",
    "import pandas as pd\n",
    "import datetime as dt\n",
    "import matplotlib.dates as mdates\n",
    "from sklearn import linear_model,preprocessing\n",
    "from sklearn.metrics import mean_squared_error,r2_score"
   ]
  },
  {
   "cell_type": "markdown",
   "metadata": {},
   "source": [
    "### LoadingData"
   ]
  },
  {
   "cell_type": "code",
   "execution_count": null,
   "metadata": {},
   "outputs": [],
   "source": [
    "def loadData(river,rdDaysBefore,precDaysBefore=0):\n",
    "    data=pd.read_csv(river).values\n",
    "    Xbefore = data[:,1:4]\n",
    "    rd_column = Xbefore[:,0]\n",
    "    rd_column = np.roll(rd_column,rdDaysBefore)\n",
    "    Xbefore[:,0] = rd_column\n",
    "    if precDaysBefore != 0:\n",
    "        prec_colum = Xbefore[:,2]\n",
    "        prec_colum = np.roll(prec_colum,precDaysBefore)\n",
    "        new_column = np.expand_dims(prec_colum, axis=1)\n",
    "        Xbefore = np.hstack((Xbefore, new_column))\n",
    "    cut = rdDaysBefore if rdDaysBefore > precDaysBefore else precDaysBefore\n",
    "    X = Xbefore[cut:,:]\n",
    "    y = data[cut:,1]\n",
    "    return X,y"
   ]
  },
  {
   "cell_type": "markdown",
   "metadata": {},
   "source": [
    "### Prep of Data"
   ]
  },
  {
   "cell_type": "code",
   "execution_count": null,
   "metadata": {},
   "outputs": [],
   "source": [
    "def preprocess_data(X,y):\n",
    "    scaler = preprocessing.StandardScaler()\n",
    "    poly_features = preprocessing.PolynomialFeatures(degree=2)\n",
    "\n",
    "    train_size = int(len(y)*0.6)\n",
    "    validation_size = int(len(y)*0.2)\n",
    "\n",
    "    X_train = X[:train_size,:]\n",
    "    y_train = y[:train_size]\n",
    "    X_val = X[train_size:train_size+validation_size,:]\n",
    "    y_val = y[train_size:train_size+validation_size]\n",
    "    X_test = X[train_size+validation_size:,:]\n",
    "    y_test = y[train_size+validation_size:]\n",
    "\n",
    "\n",
    "    X_train_poly = poly_features.fit_transform(X_train)\n",
    "    X_test_poly = poly_features.transform(X_test)\n",
    "    X_val_poly = poly_features.transform(X_val)\n",
    "    X_train_scaled = scaler.fit_transform(X_train_poly)\n",
    "    X_test_scaled = scaler.transform(X_test_poly)\n",
    "    X_val_scaled = scaler.transform(X_val_poly)\n",
    "\n",
    "\n",
    "    return X_train_scaled, y_train, X_test_scaled, y_test,X_val_scaled,y_val"
   ]
  },
  {
   "cell_type": "markdown",
   "metadata": {},
   "source": [
    "### Cost Function"
   ]
  },
  {
   "cell_type": "code",
   "execution_count": null,
   "metadata": {},
   "outputs": [],
   "source": [
    "def validationCurve(X, y, X_val, y_val, lambda_array):\n",
    "\n",
    "    m = len(y)  # Number of training examples \n",
    "    mval = len(y_val)  # Number of validation examples \n",
    "    \n",
    "    error_train, error_val = [],[]\n",
    "    \n",
    "    for lam in lambda_array:\n",
    "    \n",
    "        model = linear_model.Ridge(alpha=lam)\n",
    "        model.fit(X,y)\n",
    "                \n",
    "        #After the training is over, apply the trained model for train and validation data\n",
    "        pred_train = model.predict(X)\n",
    "        pred_val =  model.predict(X_val)\n",
    "        \n",
    "        #Compute the train and validation error\n",
    "        error_train_i = 1/(2*m) * np.sum((pred_train - y)**2)\n",
    "        error_val_i = 1/(2*mval) * np.sum((pred_val - y_val)**2)\n",
    "        \n",
    "        error_train.append(error_train_i)\n",
    "        error_val.append(error_val_i)\n",
    "    \n",
    "    #Choose the best lambda to be the one that minimizes the validation error\n",
    "    ind = np.argmin(error_val)\n",
    "    best_lambda=lambda_array[ind]\n",
    "\n",
    "    return best_lambda, error_train, error_val"
   ]
  },
  {
   "cell_type": "code",
   "execution_count": null,
   "metadata": {},
   "outputs": [],
   "source": [
    "def test_for_river(river):\n",
    "\n",
    "    best_rmse = (np.inf,0)\n",
    "    alphas = [0.01,0.1,1,2,3,4,5,6,7,8,9,10,20,30,40,50,60,70,80,90,100]\n",
    "    memoryRd = [x for x in range(1,11)] + [x for x in range(10,360,15)]\n",
    "    memoryprec = [x for x in range(1,11)] + [x for x in range(10,360,15)]\n",
    "\n",
    "    for i in memoryRd:\n",
    "        for j in memoryprec:\n",
    "            X, y = loadData(river, i,j)\n",
    "            X_train_scaled, y_train, X_test_scaled, y_test,X_val_scaled,y_val = preprocess_data(X, y)\n",
    "            best_lambda, error_train, error_val = validationCurve(X_train_scaled, y_train,X_val_scaled, y_val,alphas)\n",
    "            if min(error_val) < best_rmse[0]:\n",
    "                best_rmse = (min(error_val), i, j,best_lambda)\n",
    "            \n",
    "    print(\"\\n\\n ----- TESTING FOR RIVER:\", river + \" ------ \\n\\n\")\n",
    "    print(\"Best memoryRD and memoryPrecipitacao and best lambda for best MSE:\", best_rmse[1:])\n",
    "    X, y = loadData(river, best_rmse[1], best_rmse[2])\n",
    "    X_train_scaled, y_train, X_test_scaled, y_test,X_val_scaled,y_val = preprocess_data(X, y)\n",
    "    model = linear_model.Ridge(alpha=best_rmse[3])\n",
    "    model.fit(X_train_scaled,y_train)\n",
    "    predicted = model.predict(X_test_scaled)\n",
    "    r2 = r2_score(y_test, predicted)\n",
    "    plt.plot(y_test,label=\"test values\")\n",
    "    plt.plot(predicted,'--',label=\"predicted\")\n",
    "    plt.ylabel(\"River Discharge\")\n",
    "    plt.xlabel(\"Time(days)\")\n",
    "    plt.legend()\n",
    "    plt.savefig(\"Graphs/modelC.png\")\n",
    "    mse = mean_squared_error(y_test, predicted)\n",
    "    print(\"R2:\", r2)\n",
    "    print(\"MSE:\", mse)\n",
    "    print(\"RMSE:\", np.sqrt(mse))"
   ]
  },
  {
   "cell_type": "code",
   "execution_count": null,
   "metadata": {},
   "outputs": [],
   "source": [
    "test_for_river(\"RD_data/RD_AntuaR_pg.csv\")"
   ]
  },
  {
   "cell_type": "code",
   "execution_count": null,
   "metadata": {},
   "outputs": [],
   "source": [
    "test_for_river(\"RD_data/RD_MondegoR_pg.csv\")"
   ]
  },
  {
   "cell_type": "code",
   "execution_count": null,
   "metadata": {},
   "outputs": [],
   "source": [
    "test_for_river(\"RD_data/RD_NeivaR_pg.csv\")"
   ]
  },
  {
   "cell_type": "code",
   "execution_count": null,
   "metadata": {},
   "outputs": [],
   "source": [
    "test_for_river(\"RD_data/RD_VougaR_pg.csv\")"
   ]
  }
 ],
 "metadata": {
  "kernelspec": {
   "display_name": "base",
   "language": "python",
   "name": "python3"
  },
  "language_info": {
   "codemirror_mode": {
    "name": "ipython",
    "version": 3
   },
   "file_extension": ".py",
   "mimetype": "text/x-python",
   "name": "python",
   "nbconvert_exporter": "python",
   "pygments_lexer": "ipython3",
   "version": "3.11.5"
  }
 },
 "nbformat": 4,
 "nbformat_minor": 2
}
