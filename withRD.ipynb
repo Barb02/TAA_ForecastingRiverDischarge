{
 "cells": [
  {
   "cell_type": "markdown",
   "metadata": {},
   "source": [
    "# Forecasting of daily River Discharge (RD) based on previous River Discharge"
   ]
  },
  {
   "cell_type": "markdown",
   "metadata": {},
   "source": [
    "### Import of libraries"
   ]
  },
  {
   "cell_type": "code",
   "execution_count": 136,
   "metadata": {},
   "outputs": [],
   "source": [
    "import numpy as np\n",
    "import matplotlib.pyplot as plt\n",
    "import pandas as pd\n",
    "import datetime as dt\n",
    "import matplotlib.dates as mdates\n",
    "from sklearn import linear_model,preprocessing\n",
    "from sklearn.metrics import mean_squared_error, r2_score\n",
    "from sklearn.model_selection import train_test_split"
   ]
  },
  {
   "cell_type": "markdown",
   "metadata": {},
   "source": [
    "### Validation Curve Function"
   ]
  },
  {
   "cell_type": "code",
   "execution_count": 137,
   "metadata": {},
   "outputs": [],
   "source": [
    "def validationCurve (X, y, Xval, yval, Lambda_array):\n",
    "\n",
    "    \"\"\"\n",
    "    Returns the best lambda and the respective train and cross validation set errors\n",
    "    \"\"\"\n",
    "    m = len(y)  # Number of training examples \n",
    "    n= X.shape[1]  # number of features \n",
    "    mval = len(yval)  # Number of validation examples \n",
    "    \n",
    "    error_train, error_val = [],[]\n",
    "    \n",
    "    for lam in Lambda_array:\n",
    "        # inicialize theta vector with zeros\n",
    "        \n",
    "        # call gradientDescent to compute the optimal theta \n",
    "        model = linear_model.Ridge(alpha=lam)\n",
    "        model.fit(X,y)\n",
    "                \n",
    "        #After the training is over, apply the trained model for train and validation data\n",
    "        pred_train = model.predict(X)\n",
    "        pred_val =  model.predict(Xval)\n",
    "        \n",
    "        #Compute the train and validation error\n",
    "        error_train_i = 1/(2*m) * np.sum((pred_train - y)**2)\n",
    "        error_val_i = 1/(2*mval) * np.sum((pred_val - yval)**2)\n",
    "        \n",
    "        error_train.append(error_train_i)\n",
    "        error_val.append(error_val_i)\n",
    "    \n",
    "    #Choose the best lambda to be the one that minimizes the validation error\n",
    "    ind = np.argmin(error_val)\n",
    "    best_lambda=Lambda_array[ind]\n",
    "        \n",
    "    return best_lambda, error_train, error_val"
   ]
  },
  {
   "cell_type": "markdown",
   "metadata": {},
   "source": [
    "### Load information from csv\n"
   ]
  },
  {
   "cell_type": "code",
   "execution_count": 138,
   "metadata": {},
   "outputs": [],
   "source": [
    "def loadData(river,memory):    \n",
    "    data=pd.read_csv(river)\n",
    "\n",
    "    data.head()\n",
    "    dataV = data.values\n",
    "    rd = dataV[:,1]\n",
    "\n",
    "    rollrd = np.roll(rd,1)\n",
    "    x = np.array(rollrd)\n",
    "    x = x.reshape(-1, 1)\n",
    "    for i in range(memory-1):\n",
    "        new_column = np.roll(rollrd,i+1)\n",
    "        x = np.hstack((x, new_column.reshape(-1, 1)))\n",
    "\n",
    "    X = x[memory:,:]\n",
    "    y = rd[memory:]\n",
    "    y = y.transpose()\n",
    "\n",
    "\n",
    "    scaler = preprocessing.StandardScaler().fit(X)\n",
    "\n",
    "    x_normalized = scaler.transform(X)\n",
    "\n",
    "    train_size = int(len(y)*0.6)\n",
    "    validation_size = int(len(y)*0.2)\n",
    "\n",
    "    X_train = x_normalized[:train_size,:]\n",
    "    y_train = y[:train_size]\n",
    "    X_val = x_normalized[train_size:train_size+validation_size,:]\n",
    "    y_val = y[train_size:train_size+validation_size]\n",
    "    X_test = x_normalized[train_size+validation_size:,:]\n",
    "    y_test = y[train_size+validation_size:]\n",
    "\n",
    "    return X_train,y_train,X_val,y_val,X_test,y_test"
   ]
  },
  {
   "cell_type": "markdown",
   "metadata": {},
   "source": [
    "### Using Validation Curve to determine best alpha"
   ]
  },
  {
   "cell_type": "code",
   "execution_count": 139,
   "metadata": {},
   "outputs": [
    {
     "name": "stdout",
     "output_type": "stream",
     "text": [
      "best lambda for memory of 1: 10 with validation error of 2.673825337195028\n",
      "best lambda for memory of 2: 20 with validation error of 2.6774251427739184\n",
      "best lambda for memory of 3: 10 with validation error of 2.6725500336998254\n",
      "best lambda for memory of 4: 20 with validation error of 2.66625439642398\n",
      "best lambda for memory of 5: 20 with validation error of 2.640099745968259\n",
      "best lambda for memory of 6: 20 with validation error of 2.643167213101109\n",
      "best lambda for memory of 7: 10 with validation error of 2.6543154044469537\n",
      "best lambda for memory of 8: 20 with validation error of 2.671902408037786\n",
      "best lambda for memory of 9: 10 with validation error of 2.670322402011184\n",
      "best lambda for memory of 10: 10 with validation error of 2.67439804266501\n",
      "best lambda for memory of 25: 20 with validation error of 2.774318670474679\n",
      "best lambda for memory of 40: 20 with validation error of 2.925543151717488\n",
      "best lambda for memory of 55: 30 with validation error of 3.042750237924578\n",
      "best lambda for memory of 70: 30 with validation error of 3.1313466476932024\n",
      "best lambda for memory of 85: 30 with validation error of 3.2820653524781815\n",
      "best lambda for memory of 100: 30 with validation error of 3.381183777868607\n",
      "best lambda for memory of 115: 30 with validation error of 3.446324228934587\n",
      "best lambda for memory of 130: 30 with validation error of 3.5447453803127753\n",
      "best lambda for memory of 145: 30 with validation error of 3.588647892629145\n",
      "best lambda for memory of 160: 30 with validation error of 3.644587389359447\n",
      "best lambda for memory of 175: 30 with validation error of 3.644568426190856\n",
      "best lambda for memory of 190: 40 with validation error of 3.612394193701574\n",
      "best lambda for memory of 205: 40 with validation error of 3.580717097281199\n",
      "best lambda for memory of 220: 40 with validation error of 2.9465384291211754\n",
      "best lambda for memory of 235: 40 with validation error of 2.9983278741543424\n",
      "best lambda for memory of 250: 30 with validation error of 3.0223497967314\n",
      "best lambda for memory of 265: 30 with validation error of 3.021551111268853\n",
      "best lambda for memory of 280: 30 with validation error of 3.2520684195740985\n",
      "best lambda for memory of 295: 20 with validation error of 3.3699748446679005\n",
      "best lambda for memory of 310: 20 with validation error of 3.458102310393309\n",
      "best lambda for memory of 325: 30 with validation error of 2.8979693353144924\n",
      "best lambda for memory of 340: 30 with validation error of 2.7868289891979314\n",
      "best lambda for memory of 355: 30 with validation error of 2.8701251895926263\n",
      "best Values (lambda,memory) (20, 5)\n"
     ]
    }
   ],
   "source": [
    "Lambda_array = [0.01,0.1,1,2,3,5,10,20,30,40,50,200,300,400]\n",
    "memorys = [x for x in range(1,10)] + [x for x in range(10,360,15)]\n",
    "minValError = np.inf\n",
    "for memory in memorys:\n",
    "    X_train,y_train,X_val,y_val,X_test,y_test = loadData(\"RD_data/RD_AntuaR_pg.csv\",memory)\n",
    "    best_lambda, error_train,error_val = validationCurve(X_train,y_train,X_val,y_val,Lambda_array)\n",
    "    if min(error_val) < minValError:\n",
    "        minValError = min(error_val)\n",
    "        best_lambdaMemory = (best_lambda,memory)\n",
    "    print(\"best lambda for memory of \" + str(memory) +\": \" + str(best_lambda) + \" with validation error of \" + str(min(error_val)))\n",
    "    # plt.plot(Lambda_array,error_train,label=\"Train\")\n",
    "    # plt.plot(Lambda_array,error_val,label=\"Cross Validation\",color=\"r\")\n",
    "    # plt.xlabel(\"Lambda\")\n",
    "    # plt.ylabel(\"Error\")\n",
    "    # plt.legend()\n",
    "\n",
    "print(\"best Values (lambda,memory)\",best_lambdaMemory)\n",
    "\n",
    "\n"
   ]
  },
  {
   "cell_type": "markdown",
   "metadata": {},
   "source": [
    "### Ridge regression"
   ]
  },
  {
   "cell_type": "code",
   "execution_count": 142,
   "metadata": {},
   "outputs": [
    {
     "name": "stdout",
     "output_type": "stream",
     "text": [
      "20 5\n"
     ]
    }
   ],
   "source": [
    "lambd = best_lambdaMemory[0]\n",
    "memory = best_lambdaMemory[1]\n",
    "print(lambd,memory)\n",
    "X_train,y_train,X_val,y_val,X_test,y_test = loadData(\"RD_data/RD_AntuaR_pg.csv\",memory)\n",
    "reg = linear_model.Ridge(alpha=lambd)\n",
    "reg.fit(X_train,y_train)\n",
    "\n",
    "predict = reg.predict(X_test)"
   ]
  },
  {
   "cell_type": "markdown",
   "metadata": {},
   "source": [
    "Results"
   ]
  },
  {
   "cell_type": "code",
   "execution_count": 141,
   "metadata": {},
   "outputs": [
    {
     "name": "stdout",
     "output_type": "stream",
     "text": [
      "R-squared (R2): 0.9044553041471756\n",
      "MSE: 0.28942418480779286\n",
      "RMSE: 0.5379815840786679\n"
     ]
    },
    {
     "data": {
      "image/png": "[encoded data removed]",
      "text/plain": [
       "<Figure size 640x480 with 1 Axes>"
      ]
     },
     "metadata": {},
     "output_type": "display_data"
    }
   ],
   "source": [
    "plt.plot(predict,'r')\n",
    "plt.plot(y_test,'b')\n",
    "r2 = r2_score(y_test, predict)\n",
    "print(\"R-squared (R2):\", r2)\n",
    "\n",
    "mse = mean_squared_error(y_test, predict)\n",
    "print(\"MSE:\", mse)\n",
    "print(\"RMSE:\", np.sqrt(mse))"
   ]
  }
 ],
 "metadata": {
  "kernelspec": {
   "display_name": "Python 3",
   "language": "python",
   "name": "python3"
  },
  "language_info": {
   "codemirror_mode": {
    "name": "ipython",
    "version": 3
   },
   "file_extension": ".py",
   "mimetype": "text/x-python",
   "name": "python",
   "nbconvert_exporter": "python",
   "pygments_lexer": "ipython3",
   "version": "3.11.5"
  }
 },
 "nbformat": 4,
 "nbformat_minor": 2
}
